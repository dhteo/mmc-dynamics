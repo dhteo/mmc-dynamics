{
 "cells": [
  {
   "cell_type": "markdown",
   "id": "2fb73829",
   "metadata": {},
   "source": [
    "# Phase Transitions in Model 2D Ferromagnet with Effective Interactions\n",
    "## By DW Tola (May 2024)\n",
    "# Appendix [A1](#http://arxiv.org/abs/2403.06162:2403.06162) Supplementary Notebook\n",
    "\n",
    "## Model B  (Model A is also included for Comparison)"
   ]
  },
  {
   "cell_type": "code",
   "execution_count": 1,
   "id": "6ade536e",
   "metadata": {},
   "outputs": [],
   "source": [
    "import numpy as np\n",
    "from numpy.random import rand\n",
    "import matplotlib.pyplot as plt\n",
    "import pandas as pd\n",
    "%matplotlib inline"
   ]
  },
  {
   "cell_type": "markdown",
   "id": "d74efa33",
   "metadata": {},
   "source": [
    "* This python based jupyter-notebook demonstrates simple example that support the findings of the study [report](#http://arxiv.org/abs/2403.06162:2403.06162) \"Nonequilibrium phase transitions in a 2D Ferromagnetic spins with effective interactions\". Currently, the paper has been submitted to IOP Publishing (JPA). Notice that we use this notebook for demonstration purpose. Most of the main results in the [report](#http://arxiv.org/abs/2403.06162:2403.06162) were calculated using c++ on HP Z2 [workstaion](img/hardware).\n",
    "![hardware](img/hardware.png)\n",
    "\n",
    "## 1)   Metropolis Monte Carlo Dynamics (MMCD)\n",
    " * In the [report](#http://arxiv.org/abs/2403.06162:2403.06162) the most commonly used transition rates namely the Metropolis update rule is defined as\n",
    "$$\n",
    "W =  \\underbrace{\\texttt{MIN} \\left[1, \\exp\\left[ -\\beta  \\Delta E \\right]\\frac{}{}\\right]}_{\\rm (A13)}\n",
    " \\;  \\Rightarrow   \\; \\underbrace{\\texttt{MIN} \\left[1, \\exp\\left[-\\beta  d E \\right]\\frac{}{}\\right]}_{\\rm (B13)} \\texttt{,}\n",
    "$$\n",
    "where $\\beta = 1/T$ and $ \\Delta E $ is the energy change due to the transition from a present state to a new one. \n",
    "* It has been shown that this change in energy is given as\n",
    "$$\n",
    " \\Delta E =   (1+ h) dE^{0}  \\texttt{,}\n",
    "$$\n",
    "where $h$ is an effective parameter and $ d E^{0} = \\Delta E (h=0)$ is well-known.\n",
    "* The arrow declares that an update rule is modified through replacing $\\Delta E$ by $dE$, where\n",
    "$$\n",
    "d E =  \\Delta E^{0} +  h |\\Delta E^{0}|\\rm{, \\; \\; \\; \\;  \\; \\; }   \\Delta E^{0} =  2 S_{i} \\sum_j S_{j} \\texttt{.}\n",
    "$$\n",
    "Therefore, replacing $\\Delta E$ in (A13) by this effective $d E$, we get the modified update rule (B13).\n",
    "The [flow chart](img/figure01.PNG) summarizes the modified Metropolis algorithm which was one of the update rule implemented.\n",
    "![flow chart](img/figure01.PNG)\n",
    "* The basics of the flow chart are as follows. Suggest a transition from $S_{i}=\\pm 1$ to $S_{i}=\\mp  1$ and always accept accept the transition with a certain probability which requires to compute ratio $r=fp$. Then generate a random number $u=rand()$ distributed uniformly between $0 \\leq u < 1$ and accept the transition if $\\ln u < \\ln fp$. If $\\ln fp>0$,  it is actually unnecessary to bother generating $u$.\n",
    "For the main [results](#http://arxiv.org/abs/2403.06162:2403.06162), this process would be repeated for $N$ sweeps as a MC step (MCS) per site where we discard the first $10^{5}$ MCS per site to allow it to attain NESS for all systems. Then again, we measure the averaged quantities of interest in completing more $10^{5}$ MCS per site. The average over the representatives is done using 100 independent measurements. However, these all should be reduced here for simplicity.\n"
   ]
  },
  {
   "cell_type": "code",
   "execution_count": 2,
   "id": "0f999601",
   "metadata": {},
   "outputs": [],
   "source": [
    "def randomstate(L):\n",
    "    '''\n",
    "    Returns a random state of Ising configuration to ascertain an initial condition\n",
    "    '''\n",
    "    state = np.random.choice([-1,1], size=(L,L))\n",
    "    return state"
   ]
  },
  {
   "cell_type": "code",
   "execution_count": 3,
   "id": "6f73c047",
   "metadata": {},
   "outputs": [
    {
     "data": {
      "text/plain": [
       "<function matplotlib.pyplot.show(close=None, block=None)>"
      ]
     },
     "execution_count": 3,
     "metadata": {},
     "output_type": "execute_result"
    },
    {
     "data": {
      "image/png": "[encoded data removed]",
      "text/plain": [
       "<Figure size 256x256 with 1 Axes>"
      ]
     },
     "metadata": {},
     "output_type": "display_data"
    }
   ],
   "source": [
    "random_confg=randomstate(120)\n",
    "fig,ax=plt.subplots(figsize=(4,4),dpi=64)\n",
    "ax.matshow(random_confg, cmap=plt.cm.bwr)\n",
    "ax.set_xticks([]),ax.set_yticks([])\n",
    "plt.title(\"Example of a random state configuration (L=120)\", fontsize = 16,fontweight=\"bold\")\n",
    "plt.show"
   ]
  },
  {
   "cell_type": "markdown",
   "id": "7f870f77",
   "metadata": {},
   "source": [
    "* Let $\\Delta E^{0} =\\texttt{dE0}$,\n",
    "$$\\texttt{dE0} = 2 S_{i} \\sum_j S_{j} \\equiv \\{-8,-4,0,4,8\\},$$\n",
    "is the change in the energy if the flip is accepted for the usual Metropolis update rule, the modified versions are\n",
    "\n",
    "###  Model A: \n",
    "The version that satisfies DB is \n",
    "$$\\texttt{ dEA = dE0*(1+h)}$$\n",
    "\n",
    "###  Model B: \n",
    "Calculate values of the quantities in which the update rule uses\n",
    " $$\\texttt{ dEB = dE0+h*abs(dE0)},$$\n",
    "where we define $h$ as an effective  parameter $\\texttt{h=heff}$ that takes any fixed value  $-1\\le h < \\infty $."
   ]
  },
  {
   "cell_type": "markdown",
   "id": "412c6f01",
   "metadata": {},
   "source": [
    "## Note: \n",
    "Given $f = \\texttt{min(1, np.exp(-beta*dE))}$ then\n",
    "$$\n",
    "\\ln f = \\texttt{min(0, -beta*dE)}$$\n"
   ]
  },
  {
   "cell_type": "markdown",
   "id": "77e6ae7a",
   "metadata": {},
   "source": [
    "### Block of functions used in the $ \\texttt{Main}$ part"
   ]
  },
  {
   "cell_type": "code",
   "execution_count": 4,
   "id": "4d51da85",
   "metadata": {},
   "outputs": [],
   "source": [
    "def mmcd(confg, beta,arg):\n",
    "    '''\n",
    "    Metropolis MC Dynamics\n",
    "    confg = Configuration of 2D Ising state\n",
    "    beta = 1./T\n",
    "    arg = True: Model A with DB (A13)\n",
    "    arg = False: Model B without DB (B13) '''  \n",
    "    for ix in range(L):\n",
    "        for iy in range(L):\n",
    "            x = np.random.randint(0, L)\n",
    "            y = np.random.randint(0, L)\n",
    "            si =  confg[x, y]\n",
    "            sjn = confg[(x+1)%L,y]+confg[x,(y+1)%L]+confg[(x-1)%L,y]+confg[x,(y-1)%L] \n",
    "            dE0 = 2.*si*sjn\n",
    "            dEA = dE0*(1+h)\n",
    "            dEB = dE0+h*abs(dE0)\n",
    "            '''\n",
    "            f = Flipping probability \n",
    "            lnfA = min(0, -beta*dEA)  for Model A\n",
    "            lnfB = min(0, -beta*dEB)  for Model B '''\n",
    "            if arg==False and np.log(rand())<min(0,-beta*dEB):\n",
    "                si *= -1\n",
    "            if arg==True and np.log(rand())< min(0,-beta*dEA):\n",
    "                si *= -1\n",
    "            confg[x, y] = si\n",
    "    return confg\n",
    "def EvEnergy(confg,arg):\n",
    "    '''\n",
    "    Evaluate an energy of the confg\n",
    "    '''\n",
    "    energy=0.\n",
    "    for i in range(len(confg)):\n",
    "        for j in range(len(confg)):\n",
    "            Si = confg[i,j]\n",
    "            Sjn = confg[(i+1)%L,j]+confg[i,(j+1)%L]+confg[(i-1)%L,j]+confg[i,(j-1)%L]\n",
    "            energy -= Si*Sjn*(1.0+h)\n",
    "    return 0.5*energy      # 0.5 compensates the double counting\n",
    "def EvMagnetization(confg):\n",
    "    '''\n",
    "    Evaluate Magnetization of the confg\n",
    "    '''\n",
    "    magnetization = np.sum(confg)\n",
    "    return np.abs(magnetization)"
   ]
  },
  {
   "cell_type": "markdown",
   "id": "94741b1f",
   "metadata": {},
   "source": [
    "### Input Parameters"
   ]
  },
  {
   "cell_type": "code",
   "execution_count": 5,
   "id": "166c8d18",
   "metadata": {},
   "outputs": [],
   "source": [
    "'''\n",
    "Effective Parameter: {-1<h<1} but we can use any h>-1 as well.\n",
    "Try to switch between different values of h and see how it works.\n",
    "Example: h = {-0.8, -0.5, -0.25, 0.25,0.5, 1,1.5, ...}'''\n",
    "#%%%%%%%%%%%%%%%%%%%%%%%%%%%%%%%%%%%%%%%%%%%%%%%%%%%%%%%%%\n",
    "h = 0.25\n",
    "'''\n",
    "'Default Ep = \\pm 0.25 '''\n",
    "#%%%%%%%%%%%%%%%%%%%%%%%%%%%%%%%%%%%%%%%%%%%%%%%%%%%%%%%%%\n",
    "if h>=0:\n",
    "    Thi = 4*(1+h);     # The starting high (hot) temperature\n",
    "    Tlo = 1.*(1+h);     # The low (cold) temperature\n",
    "else:Thi = 3.2; Tlo =-0.2\n",
    "nt = int(51)      # number of temperature\n",
    "T  =  np.linspace(Thi, Tlo,nt);\n",
    "TcO = 2/np.log(1.0+np.sqrt(2))      # Tc for h = 0 is known\n",
    "if h>=1:\n",
    "    Tch=2*TcO\n",
    "    Tc= (1+h)*TcO                   # Tc for mod C\n",
    "elif h<1 and h>-1: \n",
    "    Tch = (1+h)*TcO                 # Tc for db = False\n",
    "    Tc= (1+h)*TcO \n",
    "else:\n",
    "    Tch = 0; \n",
    "    Tc= (abs(h)-1)*TcO   "
   ]
  },
  {
   "cell_type": "code",
   "execution_count": 6,
   "id": "891bad1c",
   "metadata": {},
   "outputs": [
    {
     "data": {
      "text/plain": [
       "(5.0, 1.25, 51, 2.8364816427662776, 2.8364816427662776, 0.25)"
      ]
     },
     "execution_count": 6,
     "metadata": {},
     "output_type": "execute_result"
    }
   ],
   "source": [
    "Thi,Tlo,nt,Tc,Tch,h"
   ]
  },
  {
   "cell_type": "code",
   "execution_count": 7,
   "id": "78825bb0",
   "metadata": {},
   "outputs": [],
   "source": [
    "'''\n",
    "For fast simulation, please change the following  parameters each to its minimal value \n",
    "'''\n",
    "L  = 20              #  size of the lattice, N = L x L\n",
    "eqMCS = 3200         #  number of MCS for equilibration\n",
    "evMCS = 3200         #  number of MCS for evaluation or measurement\n",
    "N = int(L*L)\n",
    "n1 = 1.0/(evMCS*N)\n",
    "n2  =  1.0/(evMCS*evMCS*N)\n",
    "m,E = np.zeros(nt),np.zeros(nt)\n",
    "X,C =  np.zeros(nt),np.zeros(nt)"
   ]
  },
  {
   "cell_type": "markdown",
   "id": "ceb4f46c",
   "metadata": {},
   "source": [
    "### The $ \\texttt{Main}$ part "
   ]
  },
  {
   "cell_type": "code",
   "execution_count": 8,
   "id": "2cb62ce1",
   "metadata": {},
   "outputs": [],
   "source": [
    "def main(arg):\n",
    "    for t in range(nt):\n",
    "        '''\n",
    "        initialize'''\n",
    "        confg = randomstate(L)\n",
    "        M1=E1 = 0\n",
    "        M2=E2 = 0\n",
    "        ib=1./T[t]; ib2=ib*ib;\n",
    "\n",
    "        for i in range(eqMCS):           # equilibrate\n",
    "            mmcd(confg,ib,arg)           # Metropolis MC Dynamics\n",
    "\n",
    "        for i in range(evMCS):\n",
    "            mmcd(confg,ib,arg)       \n",
    "            En = EvEnergy(confg,arg)       # evaluate the energy\n",
    "            Mn  = EvMagnetization(confg)  # evaluate the magnetisation\n",
    "            E1 = E1 + En\n",
    "            M1 = M1 + Mn\n",
    "            M2 = M2 + Mn*Mn\n",
    "            E2 = E2 + En*En\n",
    "        '''\n",
    "        obtain intensive values ''' \n",
    "        m[t] = n1*M1\n",
    "        E[t] = n1*E1\n",
    "        X[t] = (n1*M2 - n2*M1*M1)*ib\n",
    "        C[t] = (n1*E2 - n2*E1*E1)*ib2\n",
    "    return arg"
   ]
  },
  {
   "cell_type": "code",
   "execution_count": 9,
   "id": "d4fd725f",
   "metadata": {},
   "outputs": [
    {
     "data": {
      "text/plain": [
       "True"
      ]
     },
     "execution_count": 9,
     "metadata": {},
     "output_type": "execute_result"
    }
   ],
   "source": [
    "'''\n",
    "arg = True  for Model A\n",
    "The DB is valid\n",
    "'''\n",
    "main(True)"
   ]
  },
  {
   "cell_type": "markdown",
   "id": "531124df",
   "metadata": {},
   "source": [
    " ###  Calculated values of the quantities in which the update rule uses fixed value of  $$h=\\{-1<\\texttt{h}< 1\\}$$."
   ]
  },
  {
   "cell_type": "code",
   "execution_count": 10,
   "id": "7c0232f3",
   "metadata": {},
   "outputs": [
    {
     "data": {
      "text/html": [
       "<div>\n",
       "<style scoped>\n",
       "    .dataframe tbody tr th:only-of-type {\n",
       "        vertical-align: middle;\n",
       "    }\n",
       "\n",
       "    .dataframe tbody tr th {\n",
       "        vertical-align: top;\n",
       "    }\n",
       "\n",
       "    .dataframe thead th {\n",
       "        text-align: right;\n",
       "    }\n",
       "</style>\n",
       "<table border=\"1\" class=\"dataframe\">\n",
       "  <thead>\n",
       "    <tr style=\"text-align: right;\">\n",
       "      <th></th>\n",
       "      <th>T</th>\n",
       "      <th>m</th>\n",
       "      <th>X</th>\n",
       "      <th>E</th>\n",
       "      <th>C</th>\n",
       "    </tr>\n",
       "  </thead>\n",
       "  <tbody>\n",
       "    <tr>\n",
       "      <th>0</th>\n",
       "      <td>5.000</td>\n",
       "      <td>0.081753</td>\n",
       "      <td>0.314323</td>\n",
       "      <td>-0.695063</td>\n",
       "      <td>0.175685</td>\n",
       "    </tr>\n",
       "    <tr>\n",
       "      <th>1</th>\n",
       "      <td>4.925</td>\n",
       "      <td>0.086425</td>\n",
       "      <td>0.347706</td>\n",
       "      <td>-0.708512</td>\n",
       "      <td>0.177874</td>\n",
       "    </tr>\n",
       "    <tr>\n",
       "      <th>2</th>\n",
       "      <td>4.850</td>\n",
       "      <td>0.084766</td>\n",
       "      <td>0.341711</td>\n",
       "      <td>-0.726652</td>\n",
       "      <td>0.184273</td>\n",
       "    </tr>\n",
       "    <tr>\n",
       "      <th>3</th>\n",
       "      <td>4.775</td>\n",
       "      <td>0.087016</td>\n",
       "      <td>0.357577</td>\n",
       "      <td>-0.740953</td>\n",
       "      <td>0.203357</td>\n",
       "    </tr>\n",
       "    <tr>\n",
       "      <th>4</th>\n",
       "      <td>4.700</td>\n",
       "      <td>0.085538</td>\n",
       "      <td>0.346076</td>\n",
       "      <td>-0.746152</td>\n",
       "      <td>0.204967</td>\n",
       "    </tr>\n",
       "  </tbody>\n",
       "</table>\n",
       "</div>"
      ],
      "text/plain": [
       "       T         m         X         E         C\n",
       "0  5.000  0.081753  0.314323 -0.695063  0.175685\n",
       "1  4.925  0.086425  0.347706 -0.708512  0.177874\n",
       "2  4.850  0.084766  0.341711 -0.726652  0.184273\n",
       "3  4.775  0.087016  0.357577 -0.740953  0.203357\n",
       "4  4.700  0.085538  0.346076 -0.746152  0.204967"
      ]
     },
     "execution_count": 10,
     "metadata": {},
     "output_type": "execute_result"
    }
   ],
   "source": [
    "'''\n",
    "Data frame (df) refers to the results calculated in which DB = True for model B with DB. That is model A\n",
    "For h=0, the well-known results can be retrieved.\n",
    "'''\n",
    "dfA = pd.DataFrame({'T':T,'m':m, 'X': X, 'E':E, 'C': C})\n",
    "dfA.head()"
   ]
  },
  {
   "cell_type": "markdown",
   "id": "48742f41",
   "metadata": {},
   "source": [
    " ###  Calculated values of the quantities in which the update rule uses $\\texttt{heff}=\\texttt{Ep/dE0}$ for fixed $\\texttt{Ep}$."
   ]
  },
  {
   "cell_type": "code",
   "execution_count": 11,
   "id": "dc946633",
   "metadata": {},
   "outputs": [
    {
     "data": {
      "text/plain": [
       "False"
      ]
     },
     "execution_count": 11,
     "metadata": {},
     "output_type": "execute_result"
    }
   ],
   "source": [
    "'''\n",
    "arg = False\n",
    "Model B is without DB\n",
    "'''\n",
    "main(False)"
   ]
  },
  {
   "cell_type": "code",
   "execution_count": 12,
   "id": "b93ba663",
   "metadata": {},
   "outputs": [],
   "source": [
    "dfB = pd.DataFrame({'T':T,'m':m, 'X': X, 'E':E, 'C': C})"
   ]
  },
  {
   "cell_type": "markdown",
   "id": "1e73db59",
   "metadata": {},
   "source": [
    "### Plot the calculated values of the quantities"
   ]
  },
  {
   "cell_type": "code",
   "execution_count": 13,
   "id": "ff0a26e5",
   "metadata": {},
   "outputs": [
    {
     "data": {
      "image/png": "[encoded data removed]",
      "text/plain": [
       "<Figure size 1000x600 with 4 Axes>"
      ]
     },
     "metadata": {},
     "output_type": "display_data"
    }
   ],
   "source": [
    "'''\n",
    "Plot of the calculated quantities (here h = 0.25) for L = 20 \n",
    "'''\n",
    "dot = int(16)\n",
    "x=T\n",
    "f = plt.figure(figsize=(10, 6));\n",
    "sf = f.add_subplot(2,2,1);\n",
    "sf.scatter(x, dfA[\"m\"], s=dot, marker='o', color='g',label=\"A\",fc=\"r\");\n",
    "plt.axvline(Tc, c='r', ls ='--', lw='1.5');\n",
    "sf.scatter(x, m, s=dot, marker='o', color='b', label = \"B\");\n",
    "plt.axvline(Tch, c='b', ls ='--', lw='1.6');\n",
    "plt.xlabel(\"T\", fontsize=14); \n",
    "plt.ylabel(\"Magnetization/Site\", fontsize=14); plt.axis('tight');\n",
    "plt.legend(fontsize=11)\n",
    "sf = f.add_subplot(2,2,2);\n",
    "sf.scatter(x, dfA[\"X\"], s=dot, marker='o', color='g',label = \"A\",fc=\"r\");\n",
    "plt.axvline(Tc, c='r', ls ='--', lw='1.5');\n",
    "sf.scatter(x, X, s=dot, marker='o', color='b', label = \"B\");\n",
    "plt.axvline(Tch, c='b', ls ='--', lw='1.6');\n",
    "plt.xlabel(\"T\", fontsize=14); \n",
    "plt.ylabel(\"Susceptibility\", fontsize=14);   plt.axis('tight');\n",
    "plt.legend(fontsize=11)\n",
    "sf = f.add_subplot(2,2,3);\n",
    "sf.scatter(x,dfA[\"E\"], s=dot, marker='o', color='g',label = \"A\",fc=\"r\");\n",
    "plt.axvline(Tc, c='r', ls ='--', lw='1.5');\n",
    "sf.scatter(x, E, s=dot, marker='o', color='b', label = \"B\");\n",
    "plt.axvline(Tch, c='b', ls ='--', lw='1.6');\n",
    "plt.xlabel(\"T\", fontsize=16);\n",
    "plt.ylabel(\"Energy/Spin\", fontsize=14); plt.axis('tight');\n",
    "plt.legend(fontsize=11)\n",
    "sf=f.add_subplot(2,2,4);\n",
    "sf.scatter(x, dfA[\"C\"],s=dot, marker='o', color='g',label = \"A\",fc=\"r\");\n",
    "plt.axvline(Tc, c='r', ls ='--', lw='1.5');\n",
    "sf.scatter(x, C, s=dot, marker='o', color='b', label = \"B\");\n",
    "plt.axvline(Tch, c='b', ls ='--', lw='1.6');\n",
    "plt.xlabel(\"T\", fontsize=16);  \n",
    "plt.ylabel(\"Specific Heat \", fontsize=14);   plt.axis('tight');\n",
    "plt.legend(fontsize=11)\n",
    "plt.show()"
   ]
  },
  {
   "cell_type": "markdown",
   "id": "85e6967a",
   "metadata": {},
   "source": [
    "### Figure:\n",
    "* Plots of physical quantities magnetization per site, magnetic susceptibility, energy per spin and specific heat all as a function of temperature $T$. For values of $\\texttt{h}\\ge-1$ the position of vertical dashed lines (red and blue colors) provide estimate of $T_{c}$ in each of the two Models A and B (see keys)."
   ]
  },
  {
   "cell_type": "markdown",
   "id": "b9bc83ef",
   "metadata": {},
   "source": [
    "* The examples $\\texttt{h=-0.25}$ shows that the results are agree with each other."
   ]
  },
  {
   "cell_type": "markdown",
   "id": "e73e4356",
   "metadata": {},
   "source": [
    "## 2) Glauber Monte Carlo Dynamics (GMCD)\n",
    "See the second notebook gmcd."
   ]
  },
  {
   "cell_type": "code",
   "execution_count": null,
   "id": "355d9c77",
   "metadata": {},
   "outputs": [],
   "source": []
  }
 ],
 "metadata": {
  "kernelspec": {
   "display_name": "Python 3 (ipykernel)",
   "language": "python",
   "name": "python3"
  },
  "language_info": {
   "codemirror_mode": {
    "name": "ipython",
    "version": 3
   },
   "file_extension": ".py",
   "mimetype": "text/x-python",
   "name": "python",
   "nbconvert_exporter": "python",
   "pygments_lexer": "ipython3",
   "version": "3.10.12"
  }
 },
 "nbformat": 4,
 "nbformat_minor": 5
}
